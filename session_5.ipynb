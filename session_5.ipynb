{
  "nbformat": 4,
  "nbformat_minor": 0,
  "metadata": {
    "colab": {
      "provenance": [],
      "mount_file_id": "1wGGmOoqZhKJZu8R9jkjzQcncXlfZQ8VH",
      "authorship_tag": "ABX9TyNbColdie+zNth3IJcdjbyX",
      "include_colab_link": true
    },
    "kernelspec": {
      "name": "python3",
      "display_name": "Python 3"
    },
    "language_info": {
      "name": "python"
    }
  },
  "cells": [
    {
      "cell_type": "markdown",
      "metadata": {
        "id": "view-in-github",
        "colab_type": "text"
      },
      "source": [
        "<a href=\"https://colab.research.google.com/github/arad1367/WAC/blob/main/session_5.ipynb\" target=\"_parent\"><img src=\"https://colab.research.google.com/assets/colab-badge.svg\" alt=\"Open In Colab\"/></a>"
      ]
    },
    {
      "cell_type": "markdown",
      "source": [
        "### Project 3: Atari guess game function\n",
        "Hey friends, please check these rules when you try to do this project:\n",
        "\n",
        "1. You need to write a function with whatever you have learned till now (think about parameters).\n",
        "2. We have a random number. The user is not a human, the user is a computer. So, computer try to guess the number.\n",
        "3. Computer doesn't need hints ( smaller or bigger number)\n",
        "4. The computer has a certain number of chances to guess.\n",
        "5. So, user is a computer and try to guess a number that is produced by computer randomly."
      ],
      "metadata": {
        "id": "5KcT1G5QguB0"
      }
    },
    {
      "cell_type": "code",
      "execution_count": 11,
      "metadata": {
        "id": "P7gNo0t7gqOl"
      },
      "outputs": [],
      "source": [
        "import random\n",
        "\n",
        "# Write a function: Com & Com game\n",
        "def atari_guess_game(bound=10, live=3, is_continue=False):\n",
        "  \"\"\"\n",
        "  This is a random guess game.\n",
        "  bound: for example 1 to bound (10, 100, 1000)\n",
        "  live: Integer number\n",
        "  is_continue: default parameter is False\n",
        "  \"\"\"\n",
        "  # We need a random_number (chance number)\n",
        "  random_number = random.randint(1, bound)\n",
        "  print(f'Our chance number is: {random_number}\\n')\n",
        "\n",
        "  wrong_guess = []\n",
        "\n",
        "  # While loop\n",
        "  while not is_continue:\n",
        "    com_user = random.randint(1, bound)\n",
        "    # Fix the bug related to repeated guess\n",
        "    if com_user not in wrong_guess:\n",
        "      wrong_guess.append(com_user)\n",
        "      # Continue logic about game\n",
        "      if com_user == random_number:\n",
        "        print(f'Wow congratulations! computer guess is: {com_user}, and chance number is: {random_number}')\n",
        "        print(f'You saved {live} live.')\n",
        "        break\n",
        "      else:\n",
        "        live -= 1\n",
        "        print(f'Computer wrong guess is: {com_user}')\n",
        "        if live == 0:\n",
        "          print(f'The end. Chance number is: {random_number}')\n",
        "          break"
      ]
    },
    {
      "cell_type": "code",
      "source": [
        "# call the function\n",
        "atari_guess_game(bound=1000, live=10)"
      ],
      "metadata": {
        "colab": {
          "base_uri": "https://localhost:8080/"
        },
        "id": "r88XrVjHrsIF",
        "outputId": "e2687013-39dc-45ab-f8d0-0a3df9d3eb7b"
      },
      "execution_count": 14,
      "outputs": [
        {
          "output_type": "stream",
          "name": "stdout",
          "text": [
            "Our chance number is: 377\n",
            "\n",
            "Computer wrong guess is: 743\n",
            "Computer wrong guess is: 456\n",
            "Computer wrong guess is: 756\n",
            "Computer wrong guess is: 199\n",
            "Computer wrong guess is: 371\n",
            "Computer wrong guess is: 125\n",
            "Computer wrong guess is: 810\n",
            "Computer wrong guess is: 490\n",
            "Computer wrong guess is: 315\n",
            "Computer wrong guess is: 578\n",
            "The end. Chance number is: 377\n"
          ]
        }
      ]
    },
    {
      "cell_type": "markdown",
      "source": [
        "### 1. Object Oriented Programming (OOP)\n",
        "* Basic class\n",
        "* Class with multiple objects\n",
        "* Calculator class\n",
        "* Class with default parameters\n",
        "* Inheritance\n",
        "* Access to parent class attributes (__init__)\n",
        "* More examples"
      ],
      "metadata": {
        "id": "dms9rsZhg0L1"
      }
    },
    {
      "cell_type": "code",
      "source": [
        "# Very basic class\n",
        "class BluePrint:\n",
        "  pass\n",
        "\n",
        "# Object\n",
        "obj1 = BluePrint() # obj1 is instantiated from BluePrint class and it has access to all attributes and methods inside class.\n",
        "print(type(obj1))"
      ],
      "metadata": {
        "colab": {
          "base_uri": "https://localhost:8080/"
        },
        "id": "0DBfQjPTg4MJ",
        "outputId": "7eb46e00-1317-4cf2-f5eb-a1c2ab9804d6"
      },
      "execution_count": 19,
      "outputs": [
        {
          "output_type": "stream",
          "name": "stdout",
          "text": [
            "<class '__main__.BluePrint'>\n"
          ]
        }
      ]
    },
    {
      "cell_type": "code",
      "source": [
        "# A Social Network class\n",
        "\n",
        "class Socialnetwork(object):\n",
        "  # Constructor: define our attributes\n",
        "  def __init__(self, name, score): # attributes\n",
        "    self.name = name\n",
        "    self.score = score\n",
        "\n",
        "  # methods\n",
        "  def read(self):\n",
        "    return f'The social networks of {self.name} has {self.score} score.'\n",
        "\n",
        "# define an object\n",
        "obj1 = Socialnetwork(name='Facebook', score=10)\n",
        "obj1\n",
        "obj1.name\n",
        "obj1.score\n",
        "obj1.read()\n",
        "\n",
        "obj2 = Socialnetwork(name='Instagram', score=12)\n",
        "obj2.read()"
      ],
      "metadata": {
        "colab": {
          "base_uri": "https://localhost:8080/",
          "height": 36
        },
        "id": "ywono01Dtzlf",
        "outputId": "44b41f00-f328-4963-d424-608bf80d1dd4"
      },
      "execution_count": 25,
      "outputs": [
        {
          "output_type": "execute_result",
          "data": {
            "text/plain": [
              "'The social networks of Instagram has 12 score.'"
            ],
            "application/vnd.google.colaboratory.intrinsic+json": {
              "type": "string"
            }
          },
          "metadata": {},
          "execution_count": 25
        }
      ]
    },
    {
      "cell_type": "code",
      "source": [
        "# Calculator class\n",
        "class Calculator:\n",
        "  def __init__(self, x, y):\n",
        "    self.x = x\n",
        "    self.y = y\n",
        "\n",
        "  def add(self):\n",
        "    return self.x + self.y\n",
        "\n",
        "  def sub(self):\n",
        "    return self.x - self.y\n",
        "\n",
        "  def multiply(self):\n",
        "    return self.x * self.y\n",
        "\n",
        "  def div(self):\n",
        "    return self.x // self.y\n",
        "\n",
        "# Define object\n",
        "clc = Calculator(10, 5)\n",
        "clc.add()\n",
        "clc.div()"
      ],
      "metadata": {
        "colab": {
          "base_uri": "https://localhost:8080/"
        },
        "id": "pXfZrKCEwdMc",
        "outputId": "e673654c-b4d8-4ccc-acd2-76550796eddd"
      },
      "execution_count": 29,
      "outputs": [
        {
          "output_type": "execute_result",
          "data": {
            "text/plain": [
              "2"
            ]
          },
          "metadata": {},
          "execution_count": 29
        }
      ]
    },
    {
      "cell_type": "code",
      "source": [
        "# Parent class\n",
        "\n",
        "# Inheritance\n",
        "\n",
        "# Parent class\n",
        "class Person(object):\n",
        "  def __init__(self, name, age):\n",
        "    self.name = name\n",
        "    self.age = age\n",
        "\n",
        "  def identity(self):\n",
        "    return f'Dear {self.name}. You are {self.age} years old.'\n",
        "\n",
        "\n",
        "# Child class\n",
        "class employee(Person):\n",
        "  def __init__(self, password, name, age):\n",
        "    super().__init__(name, age)\n",
        "    self.password = password\n",
        "\n",
        "  def access(self):\n",
        "    return f'Dear {self.name}. Your access code is: {self.password}'\n",
        "\n",
        "# Define an object\n",
        "person1 = Person(\"Mike\", 33)\n",
        "person1.identity()\n",
        "\n",
        "person2 = employee(11111111, 'Sara', 27)\n",
        "person2.identity()"
      ],
      "metadata": {
        "colab": {
          "base_uri": "https://localhost:8080/",
          "height": 36
        },
        "id": "jk6NvxFs08W4",
        "outputId": "c577b19e-b9fb-4ce3-bfee-620e5ab97c94"
      },
      "execution_count": 36,
      "outputs": [
        {
          "output_type": "execute_result",
          "data": {
            "text/plain": [
              "'Dear Sara. You are 27 years old.'"
            ],
            "application/vnd.google.colaboratory.intrinsic+json": {
              "type": "string"
            }
          },
          "metadata": {},
          "execution_count": 36
        }
      ]
    },
    {
      "cell_type": "markdown",
      "source": [
        "### 2. Error handling in Python\n",
        "* ZeroDivisionError\n",
        "* TypeError\n",
        "* IndexError\n",
        "* ValueError\n",
        "* SyntaxError"
      ],
      "metadata": {
        "id": "zmqa65X1g93P"
      }
    },
    {
      "cell_type": "code",
      "source": [
        "try:\n",
        "  result = 10 / 0\n",
        "  print(result)\n",
        "\n",
        "except (ZeroDivisionError, TypeError, SyntaxError) as err:\n",
        "  print(\"You can not divide a number on 0\")\n",
        "  print(f'Error type is: {err}')\n",
        "\n",
        "else:\n",
        "  print(\"Good job\")"
      ],
      "metadata": {
        "colab": {
          "base_uri": "https://localhost:8080/"
        },
        "id": "6hOUXmVehA0M",
        "outputId": "cad87da1-9b50-41d9-a139-3e7911ddac35"
      },
      "execution_count": 43,
      "outputs": [
        {
          "output_type": "stream",
          "name": "stdout",
          "text": [
            "You can not divide a number on 0\n",
            "Error type is: division by zero\n"
          ]
        }
      ]
    },
    {
      "cell_type": "markdown",
      "source": [
        "### 3. Modules\n",
        "* link to pypi: https://pypi.org/\n",
        "\n",
        "* Built in modules\n",
        "* Custom modules\n",
        "* Pypi"
      ],
      "metadata": {
        "id": "SrfRAFUchEzG"
      }
    },
    {
      "cell_type": "code",
      "source": [
        "import random\n",
        "from time import sleep\n",
        "from datetime import datetime\n",
        "\n",
        "# for i in range(3):\n",
        "#   sleep(1)\n",
        "#   print(\"name\")\n",
        "\n",
        "print(datetime.today())"
      ],
      "metadata": {
        "colab": {
          "base_uri": "https://localhost:8080/"
        },
        "id": "LyF4_Y4lhNiI",
        "outputId": "2533faa5-5602-4136-f510-b3aa4e3899da"
      },
      "execution_count": 48,
      "outputs": [
        {
          "output_type": "stream",
          "name": "stdout",
          "text": [
            "2023-09-18 15:22:22.542924\n"
          ]
        }
      ]
    },
    {
      "cell_type": "code",
      "source": [
        "! pip install heroes"
      ],
      "metadata": {
        "colab": {
          "base_uri": "https://localhost:8080/"
        },
        "id": "0EIbzzBc4Kjz",
        "outputId": "76e1f370-0748-4b83-f751-d439a55fe830"
      },
      "execution_count": 49,
      "outputs": [
        {
          "output_type": "stream",
          "name": "stdout",
          "text": [
            "Collecting heroes\n",
            "  Downloading heroes-1.0.2.tar.gz (11 kB)\n",
            "  Preparing metadata (setup.py) ... \u001b[?25l\u001b[?25hdone\n",
            "Building wheels for collected packages: heroes\n",
            "  Building wheel for heroes (setup.py) ... \u001b[?25l\u001b[?25hdone\n",
            "  Created wheel for heroes: filename=heroes-1.0.2-py3-none-any.whl size=11174 sha256=bf550d46c0ba962d3de003365f02eea56fe87ff4838d46465b7ea58a3085095b\n",
            "  Stored in directory: /root/.cache/pip/wheels/13/49/ed/e7567e4664ef814157d74116c14734bc53be16d4b55743abdc\n",
            "Successfully built heroes\n",
            "Installing collected packages: heroes\n",
            "Successfully installed heroes-1.0.2\n"
          ]
        }
      ]
    },
    {
      "cell_type": "code",
      "source": [
        "import heroes\n",
        "\n",
        "print(heroes.gen())"
      ],
      "metadata": {
        "colab": {
          "base_uri": "https://localhost:8080/"
        },
        "id": "OjyTemXC5Lku",
        "outputId": "46a8ede8-d73f-4804-ae25-afa04995b966"
      },
      "execution_count": 52,
      "outputs": [
        {
          "output_type": "stream",
          "name": "stdout",
          "text": [
            "Ghost Rider\n"
          ]
        }
      ]
    },
    {
      "cell_type": "code",
      "source": [
        "import calculator\n",
        "\n",
        "from calculator import add, sub, div\n",
        "\n",
        "print(add(10, 10))\n",
        "print(sub(20, 1))"
      ],
      "metadata": {
        "colab": {
          "base_uri": "https://localhost:8080/"
        },
        "id": "yibUNJWw5bWH",
        "outputId": "e242111e-3df4-40b8-e029-2cb6006731a6"
      },
      "execution_count": 55,
      "outputs": [
        {
          "output_type": "stream",
          "name": "stdout",
          "text": [
            "20\n",
            "19\n"
          ]
        }
      ]
    },
    {
      "cell_type": "code",
      "source": [],
      "metadata": {
        "id": "ag_LP7F-6ItC"
      },
      "execution_count": null,
      "outputs": []
    }
  ]
}