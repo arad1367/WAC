{
  "nbformat": 4,
  "nbformat_minor": 0,
  "metadata": {
    "colab": {
      "provenance": [],
      "authorship_tag": "ABX9TyNduZzgEIpsEGy5/xm8PmKh",
      "include_colab_link": true
    },
    "kernelspec": {
      "name": "python3",
      "display_name": "Python 3"
    },
    "language_info": {
      "name": "python"
    }
  },
  "cells": [
    {
      "cell_type": "markdown",
      "metadata": {
        "id": "view-in-github",
        "colab_type": "text"
      },
      "source": [
        "<a href=\"https://colab.research.google.com/github/arad1367/WAC/blob/main/session_1.ipynb\" target=\"_parent\"><img src=\"https://colab.research.google.com/assets/colab-badge.svg\" alt=\"Open In Colab\"/></a>"
      ]
    },
    {
      "cell_type": "markdown",
      "source": [
        "### Introduction to Python"
      ],
      "metadata": {
        "id": "DZJwhwFyoqtP"
      }
    },
    {
      "cell_type": "markdown",
      "source": [
        "### Data type in Python\n",
        "* int : 3, 7, 10, 20\n",
        "* float : 3.7, 10.6\n",
        "* str : 'Name', 'Budapest', ...\n",
        "* Boolean : True(1), False(0)"
      ],
      "metadata": {
        "id": "N46qgniaoyf4"
      }
    },
    {
      "cell_type": "code",
      "execution_count": 1,
      "metadata": {
        "colab": {
          "base_uri": "https://localhost:8080/"
        },
        "id": "5WtkxEBinvKC",
        "outputId": "a40a3590-d978-4927-d233-91e3f6b7c224"
      },
      "outputs": [
        {
          "output_type": "execute_result",
          "data": {
            "text/plain": [
              "10"
            ]
          },
          "metadata": {},
          "execution_count": 1
        }
      ],
      "source": [
        "3 + 7"
      ]
    },
    {
      "cell_type": "code",
      "source": [
        "10.6 + 20"
      ],
      "metadata": {
        "colab": {
          "base_uri": "https://localhost:8080/"
        },
        "id": "Xf_Vs8p8pVFO",
        "outputId": "e3c0034e-6dd6-4f7e-be49-f37ea138fd32"
      },
      "execution_count": 2,
      "outputs": [
        {
          "output_type": "execute_result",
          "data": {
            "text/plain": [
              "30.6"
            ]
          },
          "metadata": {},
          "execution_count": 2
        }
      ]
    },
    {
      "cell_type": "markdown",
      "source": [
        "### Print"
      ],
      "metadata": {
        "id": "7SplOE6apay2"
      }
    },
    {
      "cell_type": "code",
      "source": [
        "print('Pejman')"
      ],
      "metadata": {
        "colab": {
          "base_uri": "https://localhost:8080/"
        },
        "id": "RU9HCa4upXLX",
        "outputId": "6db5f06c-38f2-4af4-99c0-ab31cabc6fdd"
      },
      "execution_count": 3,
      "outputs": [
        {
          "output_type": "stream",
          "name": "stdout",
          "text": [
            "Pejman\n"
          ]
        }
      ]
    },
    {
      "cell_type": "markdown",
      "source": [
        "### Variables"
      ],
      "metadata": {
        "id": "qGnVuyN8pkhu"
      }
    },
    {
      "cell_type": "code",
      "source": [
        "my_name = 'Pejman'\n",
        "my_score = 90\n",
        "my_city = 'Budapest'\n",
        "\n",
        "# type variable\n",
        "type(my_score)\n",
        "\n",
        "# print in more efficient way (formatted string)\n",
        "print(f'Hey! my name is: {my_name}, and my score is: {my_score}')\n",
        "\n",
        "# concatanating\n",
        "print('Hey! my name is ' + my_name + ', I live in ' + my_city + 'my number is: ' + str(my_score))"
      ],
      "metadata": {
        "colab": {
          "base_uri": "https://localhost:8080/"
        },
        "id": "yU4vnnBupgDO",
        "outputId": "e3ee2ec6-012b-43fc-f57b-2952ca2b1c79"
      },
      "execution_count": 10,
      "outputs": [
        {
          "output_type": "stream",
          "name": "stdout",
          "text": [
            "Hey! my name is: Pejman, and my score is: 90\n",
            "Hey! my name is Pejman, I live in Budapestmy number is: 90\n"
          ]
        }
      ]
    },
    {
      "cell_type": "markdown",
      "source": [
        "### Operators"
      ],
      "metadata": {
        "id": "KUzAVIlgrZ-i"
      }
    },
    {
      "cell_type": "code",
      "source": [
        "3 + 5 - (3*5)"
      ],
      "metadata": {
        "colab": {
          "base_uri": "https://localhost:8080/"
        },
        "id": "l6P0iUV2qAy-",
        "outputId": "cd7e082c-4c7a-4f17-9af6-07e5dee8620b"
      },
      "execution_count": 11,
      "outputs": [
        {
          "output_type": "execute_result",
          "data": {
            "text/plain": [
              "-7"
            ]
          },
          "metadata": {},
          "execution_count": 11
        }
      ]
    },
    {
      "cell_type": "code",
      "source": [
        "4 >= 10"
      ],
      "metadata": {
        "colab": {
          "base_uri": "https://localhost:8080/"
        },
        "id": "mHzyCrDNr27f",
        "outputId": "0e6737cd-c0a0-49ae-cfb0-621b013f9e1b"
      },
      "execution_count": 31,
      "outputs": [
        {
          "output_type": "execute_result",
          "data": {
            "text/plain": [
              "False"
            ]
          },
          "metadata": {},
          "execution_count": 31
        }
      ]
    },
    {
      "cell_type": "code",
      "source": [
        "5 > 4"
      ],
      "metadata": {
        "colab": {
          "base_uri": "https://localhost:8080/"
        },
        "id": "RwE-nMFer9SX",
        "outputId": "0081cd22-ba6e-4126-9d3e-48f0f29ca3a0"
      },
      "execution_count": 13,
      "outputs": [
        {
          "output_type": "execute_result",
          "data": {
            "text/plain": [
              "True"
            ]
          },
          "metadata": {},
          "execution_count": 13
        }
      ]
    },
    {
      "cell_type": "code",
      "source": [
        "0 > 8"
      ],
      "metadata": {
        "colab": {
          "base_uri": "https://localhost:8080/"
        },
        "id": "En0WvaKWsArX",
        "outputId": "9653ff20-7019-4d1c-ce6a-fb2b8c6b88f0"
      },
      "execution_count": 14,
      "outputs": [
        {
          "output_type": "execute_result",
          "data": {
            "text/plain": [
              "False"
            ]
          },
          "metadata": {},
          "execution_count": 14
        }
      ]
    },
    {
      "cell_type": "code",
      "source": [
        "# %\n",
        "\n",
        "23 % 3"
      ],
      "metadata": {
        "colab": {
          "base_uri": "https://localhost:8080/"
        },
        "id": "3dTAJQ8rsCUt",
        "outputId": "037eeaa1-c857-465e-d260-fbeccec4e211"
      },
      "execution_count": 18,
      "outputs": [
        {
          "output_type": "execute_result",
          "data": {
            "text/plain": [
              "2"
            ]
          },
          "metadata": {},
          "execution_count": 18
        }
      ]
    },
    {
      "cell_type": "code",
      "source": [
        "2 ** 3"
      ],
      "metadata": {
        "colab": {
          "base_uri": "https://localhost:8080/"
        },
        "id": "Hl0nTAfisLsU",
        "outputId": "421027ca-7b28-4fe2-a5f0-f6315d58954a"
      },
      "execution_count": 19,
      "outputs": [
        {
          "output_type": "execute_result",
          "data": {
            "text/plain": [
              "8"
            ]
          },
          "metadata": {},
          "execution_count": 19
        }
      ]
    },
    {
      "cell_type": "code",
      "source": [
        "10 // 3"
      ],
      "metadata": {
        "colab": {
          "base_uri": "https://localhost:8080/"
        },
        "id": "sR5XQH39sZTp",
        "outputId": "12735e8b-8338-47dc-f6da-1f9553055241"
      },
      "execution_count": 21,
      "outputs": [
        {
          "output_type": "execute_result",
          "data": {
            "text/plain": [
              "3"
            ]
          },
          "metadata": {},
          "execution_count": 21
        }
      ]
    },
    {
      "cell_type": "code",
      "source": [
        "3 == 3"
      ],
      "metadata": {
        "colab": {
          "base_uri": "https://localhost:8080/"
        },
        "id": "3ekPFUeKscIJ",
        "outputId": "083c46e4-7244-4c0d-a967-0d363a717043"
      },
      "execution_count": 22,
      "outputs": [
        {
          "output_type": "execute_result",
          "data": {
            "text/plain": [
              "True"
            ]
          },
          "metadata": {},
          "execution_count": 22
        }
      ]
    },
    {
      "cell_type": "code",
      "source": [
        "4 != 3"
      ],
      "metadata": {
        "colab": {
          "base_uri": "https://localhost:8080/"
        },
        "id": "YjGfMqJ0slLm",
        "outputId": "bce9c5f1-764e-4775-ce54-ff0a33aab459"
      },
      "execution_count": 23,
      "outputs": [
        {
          "output_type": "execute_result",
          "data": {
            "text/plain": [
              "True"
            ]
          },
          "metadata": {},
          "execution_count": 23
        }
      ]
    },
    {
      "cell_type": "markdown",
      "source": [
        "### Input"
      ],
      "metadata": {
        "id": "kJJtOaGFsuk0"
      }
    },
    {
      "cell_type": "code",
      "source": [
        "# Define a variable with input\n",
        "name = input('Enter your name please: ')\n",
        "\n",
        "# print something\n",
        "print(f'Your name is {name}')"
      ],
      "metadata": {
        "colab": {
          "base_uri": "https://localhost:8080/"
        },
        "id": "NILZHHjRso15",
        "outputId": "807181f2-5d49-48eb-c1bd-b07a933b39a4"
      },
      "execution_count": 24,
      "outputs": [
        {
          "output_type": "stream",
          "name": "stdout",
          "text": [
            "Enter your name please: Pejman\n",
            "Your name is Pejman\n"
          ]
        }
      ]
    },
    {
      "cell_type": "code",
      "source": [
        "# Example 1:\n",
        "\n",
        "age = int(input('Enter your age: '))   # output : str '20' not 20\n",
        "\n",
        "print(f'Your age is multiply * 2  >>>> : {age*2}')"
      ],
      "metadata": {
        "colab": {
          "base_uri": "https://localhost:8080/"
        },
        "id": "vTVf98T4tG1G",
        "outputId": "dae8b813-d353-45ff-baec-8cd9c9e7d085"
      },
      "execution_count": 28,
      "outputs": [
        {
          "output_type": "stream",
          "name": "stdout",
          "text": [
            "Enter your age: 30\n",
            "Your age is multiply * 2  >>>> : 60\n"
          ]
        }
      ]
    },
    {
      "cell_type": "code",
      "source": [],
      "metadata": {
        "id": "c9frzTgdthPQ"
      },
      "execution_count": null,
      "outputs": []
    }
  ]
}