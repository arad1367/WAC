{
  "nbformat": 4,
  "nbformat_minor": 0,
  "metadata": {
    "colab": {
      "provenance": [],
      "authorship_tag": "ABX9TyPt/7AhM9Skaqiic21HSP5i",
      "include_colab_link": true
    },
    "kernelspec": {
      "name": "python3",
      "display_name": "Python 3"
    },
    "language_info": {
      "name": "python"
    }
  },
  "cells": [
    {
      "cell_type": "markdown",
      "metadata": {
        "id": "view-in-github",
        "colab_type": "text"
      },
      "source": [
        "<a href=\"https://colab.research.google.com/github/arad1367/WAC/blob/main/session_4.ipynb\" target=\"_parent\"><img src=\"https://colab.research.google.com/assets/colab-badge.svg\" alt=\"Open In Colab\"/></a>"
      ]
    },
    {
      "cell_type": "markdown",
      "source": [
        "### PEP 8 – Style Guide for Python Code\n",
        "*** https://peps.python.org/pep-0008/ ***"
      ],
      "metadata": {
        "id": "GC43xT18Qldd"
      }
    },
    {
      "cell_type": "markdown",
      "source": [
        "### PyPI · The Python Package Index\n",
        "*** https://pypi.org/ ***"
      ],
      "metadata": {
        "id": "qID-qqaJQrnv"
      }
    },
    {
      "cell_type": "markdown",
      "source": [
        "### Functions in Python\n",
        "*** https://www.w3schools.com/python/python_functions.asp ***\n",
        "* A function is a block of code which only runs when it is called.\n",
        "\n",
        "* You can pass data, known as parameters, into a function.\n",
        "\n",
        "* A function can return data as a result."
      ],
      "metadata": {
        "id": "oE1hSG5QQQna"
      }
    },
    {
      "cell_type": "markdown",
      "source": [
        "### 1. Docstring"
      ],
      "metadata": {
        "id": "IvT9p4QyxQIZ"
      }
    },
    {
      "cell_type": "code",
      "source": [
        "# 1. How can we access to docstring\n",
        "# Solution 1: Shift + Ctrl + Space\n",
        "# Solution 2: help(function_name)\n",
        "# Solution 3: Use magic method print(your_function_name__doc__)\n",
        "\n",
        "def greeting():\n",
        "  \"\"\"\n",
        "  This is a docstring related to greeting function\n",
        "  \"\"\"\n",
        "  return 'Hey Welcome to WAC'\n",
        "\n",
        "# help(greeting)\n",
        "print(greeting.__doc__)"
      ],
      "metadata": {
        "id": "UntYBr9uU4Xb",
        "colab": {
          "base_uri": "https://localhost:8080/"
        },
        "outputId": "ff89c39d-6894-4d4a-da3d-db413437b711"
      },
      "execution_count": 2,
      "outputs": [
        {
          "output_type": "stream",
          "name": "stdout",
          "text": [
            "\n",
            "  This is a docstring related to greeting function\n",
            "  \n"
          ]
        }
      ]
    },
    {
      "cell_type": "markdown",
      "source": [
        "### 2. Scope\n",
        "* What is scope in Python?\n"
      ],
      "metadata": {
        "id": "cbGeB7Uxvccg"
      }
    },
    {
      "cell_type": "code",
      "source": [
        "a = 10 # Global variables\n",
        "\n",
        "def number_store():\n",
        "  global a\n",
        "  a += 5\n",
        "  return a\n",
        "\n",
        "print(f'global a is {a}')\n",
        "print(f'Execute our function: {number_store()}')"
      ],
      "metadata": {
        "colab": {
          "base_uri": "https://localhost:8080/"
        },
        "id": "Iixp5PimvQI3",
        "outputId": "13deb6e1-dbe2-4dbb-a772-cbfd6956ee0d"
      },
      "execution_count": 6,
      "outputs": [
        {
          "output_type": "stream",
          "name": "stdout",
          "text": [
            "global a is 10\n",
            "Execute our function: 15\n"
          ]
        }
      ]
    },
    {
      "cell_type": "markdown",
      "source": [
        "*** you can find more and more practice : hackerrank website and w3schools"
      ],
      "metadata": {
        "id": "R_MF-wgRxASC"
      }
    },
    {
      "cell_type": "markdown",
      "source": [
        "### 3. Plesae write a function to identify even or odd numbers"
      ],
      "metadata": {
        "id": "cgMXoX1gxKA6"
      }
    },
    {
      "cell_type": "code",
      "source": [
        "def even_or_odd(number):\n",
        "  \"\"\"\n",
        "  This function can identify a number is odd or even\n",
        "  number: int, 1, 2, 3, ...\n",
        "  \"\"\"\n",
        "  if number % 2 != 0:\n",
        "    print(\"Odd number\")\n",
        "  else:\n",
        "    print(\"Even number\")\n",
        "\n",
        "# call the function\n",
        "even_or_odd(100001)"
      ],
      "metadata": {
        "colab": {
          "base_uri": "https://localhost:8080/"
        },
        "id": "2BsAnApRvx4t",
        "outputId": "68051214-8312-45cc-c547-238efd398f4f"
      },
      "execution_count": 10,
      "outputs": [
        {
          "output_type": "stream",
          "name": "stdout",
          "text": [
            "Odd number\n"
          ]
        }
      ]
    },
    {
      "cell_type": "markdown",
      "source": [
        "### 4. Write a function can calculate total of many numbers you wish"
      ],
      "metadata": {
        "id": "vCxv2aSQx7yq"
      }
    },
    {
      "cell_type": "code",
      "source": [
        "def total_sum_function(*args):\n",
        "  \"\"\"\n",
        "  This function try to use *args concept.\n",
        "  This function can calculate sum of as many number you wish\n",
        "  \"\"\"\n",
        "  initial_value = 0\n",
        "  for num in args:\n",
        "    initial_value += num # update the value of initial_value\n",
        "  return f'The final result is: {initial_value}'\n",
        "\n",
        "print(total_sum_function(5, 5, 5, 5, 10, 20, 100))"
      ],
      "metadata": {
        "colab": {
          "base_uri": "https://localhost:8080/"
        },
        "id": "KCMyc5bzx0Fv",
        "outputId": "b3308de6-20e4-49a3-ff5d-bf8be90a2e3c"
      },
      "execution_count": 14,
      "outputs": [
        {
          "output_type": "stream",
          "name": "stdout",
          "text": [
            "The final result is: 150\n"
          ]
        }
      ]
    },
    {
      "cell_type": "markdown",
      "source": [
        "### 5. Use total function in key and value format\n",
        "**kwargs"
      ],
      "metadata": {
        "id": "PO2dMwYUz27_"
      }
    },
    {
      "cell_type": "code",
      "source": [
        "def a_sum_function(*args, **kwargs):\n",
        "  \"\"\"\n",
        "  The function can support both *args and **kwargs to calculate total of collection of data.\n",
        "  \"\"\"\n",
        "  total_args = sum(args) # Calculate total of args\n",
        "  initial_value = 0\n",
        "  for value in kwargs.values():  # num1: 4  --- items()\n",
        "    initial_value += value\n",
        "  final_result = total_args + initial_value\n",
        "  return f'The final result is: {final_result}'\n",
        "\n",
        "# Call the function\n",
        "print(a_sum_function(10, 10, 10, num1=50, num2=20))"
      ],
      "metadata": {
        "colab": {
          "base_uri": "https://localhost:8080/"
        },
        "id": "oVcianc_zHGq",
        "outputId": "328e3b87-d269-4782-84a7-d216b9c4d39f"
      },
      "execution_count": 17,
      "outputs": [
        {
          "output_type": "stream",
          "name": "stdout",
          "text": [
            "The final result is: 100\n"
          ]
        }
      ]
    },
    {
      "cell_type": "markdown",
      "source": [
        "### 6. Write a function to find highest and lowest values inside a list"
      ],
      "metadata": {
        "id": "qo7fAinJ11Za"
      }
    },
    {
      "cell_type": "code",
      "source": [
        "my_list = [3, 7, 9, -100, 600, 7, -6, 1000, -700, 33333]\n",
        "\n",
        "# Solution 1\n",
        "# min(my_list), max(my_list)\n",
        "\n",
        "# Solution 2 : Define a function\n",
        "def lowest_highest(aList):\n",
        "  \"\"\"\n",
        "  This function can find highest and lowest values inside a list.\n",
        "  \"\"\"\n",
        "  lowest = 0\n",
        "  highest = 0\n",
        "  for num in aList:\n",
        "    if num > highest:\n",
        "      highest = num\n",
        "    if num < lowest:\n",
        "      lowest = num\n",
        "  return f'lowest number: {lowest} -- highest number: {highest}'\n",
        "\n",
        "print(lowest_highest(my_list))"
      ],
      "metadata": {
        "colab": {
          "base_uri": "https://localhost:8080/"
        },
        "id": "axbHOxRm0lFZ",
        "outputId": "bbaa301d-fecc-4aa1-865a-b54d1c69c45d"
      },
      "execution_count": 20,
      "outputs": [
        {
          "output_type": "stream",
          "name": "stdout",
          "text": [
            "lowest number: -700 -- highest number: 33333\n"
          ]
        }
      ]
    },
    {
      "cell_type": "markdown",
      "source": [
        "### 7. Write a functio to find lowest and highest keys and values from a dictionary"
      ],
      "metadata": {
        "id": "5vr_kP2P4Xu1"
      }
    },
    {
      "cell_type": "code",
      "source": [
        "my_dictionary = {  # key: value\n",
        "    'A': 10,\n",
        "    'B': -40,\n",
        "    'C': 200,\n",
        "    'D': -200\n",
        "}\n",
        "\n",
        "def high_low_key_value(aDictionary):\n",
        "  \"\"\"\n",
        "  This function can identify highest, lowest keys and values inside of a dictionary.\n",
        "  \"\"\"\n",
        "  max_value = 0\n",
        "  min_value = 0\n",
        "  max_key = \"\"\n",
        "  min_key = \"\"\n",
        "  for key, value in aDictionary.items(): # for k, v in my_dict.items():\n",
        "    if aDictionary[key] > max_value:\n",
        "      max_value = value\n",
        "      max_key = key\n",
        "    if aDictionary[key] < min_value:\n",
        "      min_value = value\n",
        "      min_key = key\n",
        "  return f'{min_key}:{min_value} ---- {max_key}:{max_value}'\n",
        "\n",
        "# Call the function\n",
        "print(high_low_key_value(my_dictionary))"
      ],
      "metadata": {
        "colab": {
          "base_uri": "https://localhost:8080/"
        },
        "id": "brYjyk-Z3LLN",
        "outputId": "fbf0a52e-6aa7-481b-9303-fd52b8c35b2e"
      },
      "execution_count": 21,
      "outputs": [
        {
          "output_type": "stream",
          "name": "stdout",
          "text": [
            "D:-200 ---- C:200\n"
          ]
        }
      ]
    },
    {
      "cell_type": "code",
      "source": [
        "my_dictionary"
      ],
      "metadata": {
        "colab": {
          "base_uri": "https://localhost:8080/"
        },
        "id": "tkn9zBE16VPB",
        "outputId": "a0df2cf8-be28-40f2-bd33-4f7138650080"
      },
      "execution_count": 22,
      "outputs": [
        {
          "output_type": "execute_result",
          "data": {
            "text/plain": [
              "{'A': 10, 'B': -40, 'C': 200, 'D': -200}"
            ]
          },
          "metadata": {},
          "execution_count": 22
        }
      ]
    },
    {
      "cell_type": "markdown",
      "source": [
        "### 8. List comprehension"
      ],
      "metadata": {
        "id": "jdMbbSyL7hOI"
      }
    },
    {
      "cell_type": "code",
      "source": [
        "# Solve a problem without list comprehension\n",
        "my_sec_list = ['Adriana', 'Pejman', 'Elnaz', 'Saeed', 'Mike', 'Rob', 'Mikaeel']\n",
        "\n",
        "list_store = []\n",
        "for name in my_sec_list:\n",
        "  if len(name) > 6:\n",
        "    list_store.append(name)\n",
        "\n",
        "\n",
        "# list comprehension\n",
        "list_com = [name for name in my_sec_list if len(name)>6]\n",
        "print(list_com)"
      ],
      "metadata": {
        "colab": {
          "base_uri": "https://localhost:8080/"
        },
        "id": "xuLB0NnZ6Z53",
        "outputId": "8f93d4ad-e4bf-43ad-8c1d-f674d3c38b57"
      },
      "execution_count": 25,
      "outputs": [
        {
          "output_type": "stream",
          "name": "stdout",
          "text": [
            "['Adriana', 'Mikaeel']\n"
          ]
        }
      ]
    },
    {
      "cell_type": "markdown",
      "source": [
        "### 9. Functional programming\n",
        "* map()\n",
        "* filter()\n",
        "* zip()\n",
        "* lambda function"
      ],
      "metadata": {
        "id": "yrEr4GiV9r1c"
      }
    },
    {
      "cell_type": "code",
      "source": [
        "# map(aFunction, aList)\n",
        "fruit_list = ['apple', 'orange', 'melon', 'cherry', 'berry']\n",
        "\n",
        "def fruit_len(fruit):\n",
        "  return f'length of {fruit}:{len(fruit)}'\n",
        "\n",
        "len_fruit_list = list(map(fruit_len, fruit_list)) # You can save it and use it in future\n",
        "print(len_fruit_list)"
      ],
      "metadata": {
        "colab": {
          "base_uri": "https://localhost:8080/"
        },
        "id": "okjpafRP89ke",
        "outputId": "04aee6ea-a12e-4284-e7b9-f34f15d24fa6"
      },
      "execution_count": 28,
      "outputs": [
        {
          "output_type": "stream",
          "name": "stdout",
          "text": [
            "['length of apple:5', 'length of orange:6', 'length of melon:5', 'length of cherry:6', 'length of berry:5']\n"
          ]
        }
      ]
    },
    {
      "cell_type": "code",
      "source": [
        "# Filter\n",
        "age_list = [7, 10, 15, 23, 33, 55]\n",
        "\n",
        "def qualify(age):\n",
        "  if age > 18:\n",
        "    return age\n",
        "\n",
        "eligible_list = list(filter(qualify, age_list))\n",
        "print(f'My eligible ages are: {eligible_list}')"
      ],
      "metadata": {
        "colab": {
          "base_uri": "https://localhost:8080/"
        },
        "id": "ZhpTZKW_-Yg5",
        "outputId": "e6da088a-b5c3-4fd7-89f7-222983260c7b"
      },
      "execution_count": 29,
      "outputs": [
        {
          "output_type": "stream",
          "name": "stdout",
          "text": [
            "My eligible ages are: [23, 33, 55]\n"
          ]
        }
      ]
    },
    {
      "cell_type": "code",
      "source": [
        "# zip()  --- output is a tuple\n",
        "list1 = ['a', 'b', 'c']\n",
        "list2 = ['d', 'e', 'f']\n",
        "list3 = [100, 200, 333]\n",
        "\n",
        "print(list(zip(list1, list2, list3)))"
      ],
      "metadata": {
        "colab": {
          "base_uri": "https://localhost:8080/"
        },
        "id": "JEoZkrVz_rdz",
        "outputId": "892905c0-0b17-4e92-ed38-280a95703d58"
      },
      "execution_count": 30,
      "outputs": [
        {
          "output_type": "stream",
          "name": "stdout",
          "text": [
            "[('a', 'd', 100), ('b', 'e', 200), ('c', 'f', 333)]\n"
          ]
        }
      ]
    },
    {
      "cell_type": "code",
      "source": [
        "# lambda\n",
        "# lambda is anonymous function\n",
        "# function_name = lambda arguments : expresiion\n",
        "\n",
        "my_function = lambda x : x * 2\n",
        "\n",
        "print(my_function(10))\n",
        "\n",
        "\n",
        "power_function = lambda num : num ** 3\n",
        "print(power_function(100))"
      ],
      "metadata": {
        "colab": {
          "base_uri": "https://localhost:8080/"
        },
        "id": "oi_UrnJVAQne",
        "outputId": "b324133a-22e1-429c-d08d-5ab26fc25ec9"
      },
      "execution_count": 32,
      "outputs": [
        {
          "output_type": "stream",
          "name": "stdout",
          "text": [
            "20\n",
            "1000000\n"
          ]
        }
      ]
    },
    {
      "cell_type": "code",
      "source": [
        "# To modify guess_atari_game with a function:   com 2 com  ... live = 5"
      ],
      "metadata": {
        "id": "rgg6YWiNA_zx"
      },
      "execution_count": 33,
      "outputs": []
    },
    {
      "cell_type": "code",
      "source": [],
      "metadata": {
        "id": "RplAtd6vBsKt"
      },
      "execution_count": null,
      "outputs": []
    }
  ]
}