{
  "nbformat": 4,
  "nbformat_minor": 0,
  "metadata": {
    "colab": {
      "provenance": [],
      "authorship_tag": "ABX9TyMvlpJHAE3K2ha7PvCTzqtA",
      "include_colab_link": true
    },
    "kernelspec": {
      "name": "python3",
      "display_name": "Python 3"
    },
    "language_info": {
      "name": "python"
    }
  },
  "cells": [
    {
      "cell_type": "markdown",
      "metadata": {
        "id": "view-in-github",
        "colab_type": "text"
      },
      "source": [
        "<a href=\"https://colab.research.google.com/github/arad1367/WAC/blob/main/small_games.ipynb\" target=\"_parent\"><img src=\"https://colab.research.google.com/assets/colab-badge.svg\" alt=\"Open In Colab\"/></a>"
      ]
    },
    {
      "cell_type": "markdown",
      "source": [
        "### Project 3 : Atari random guess game (com & com version)"
      ],
      "metadata": {
        "id": "bjypsnrIsT8T"
      }
    },
    {
      "cell_type": "code",
      "execution_count": null,
      "metadata": {
        "id": "pWPPcnFn8why"
      },
      "outputs": [],
      "source": [
        "# Write a (com & com) atari game function\n",
        "import random\n",
        "\n",
        "# Write a function\n",
        "def atari_game(bound, live=4, is_continue=False):\n",
        "  \"\"\"\n",
        "  This is a atari random guess game\n",
        "  bount: int, for example 10, 100, 1000. the guess number is in (1 to bound) area.\n",
        "  live: int\n",
        "  Good luck :)\n",
        "  \"\"\"\n",
        "  com_random_number = random.randint(1, bound)\n",
        "  print(f'Random chance number is: {com_random_number}')\n",
        "\n",
        "  # The list of wrong guesses\n",
        "  wrong_guess = []\n",
        "\n",
        "  # while / computer user\n",
        "  while not is_continue:\n",
        "    comp_user_number = random.randint(1, bound)\n",
        "\n",
        "    # Modify program bug\n",
        "    if comp_user_number not in wrong_guess:\n",
        "\n",
        "      # Compare between random number and user number\n",
        "      if comp_user_number == com_random_number:\n",
        "        print(f'Hey congratulation. Com user guess is: {comp_user_number}, and random chance number was: {com_random_number}')\n",
        "        print(f'You saved {live} lives')\n",
        "        break\n",
        "      else:\n",
        "        live -= 1\n",
        "        print(f'The wrong guess was: {comp_user_number}')\n",
        "        wrong_guess.append(comp_user_number)\n",
        "        if live == 0:\n",
        "          print(f'The end! Ran?dom chance number was: {com_random_number}')\n",
        "          break"
      ]
    },
    {
      "cell_type": "code",
      "source": [
        "# call the function\n",
        "atari_game(bound=5)"
      ],
      "metadata": {
        "colab": {
          "base_uri": "https://localhost:8080/"
        },
        "id": "-Jmsqj1B82o8",
        "outputId": "d249956e-f90d-4c40-f363-dced4d0d98b4"
      },
      "execution_count": null,
      "outputs": [
        {
          "output_type": "stream",
          "name": "stdout",
          "text": [
            "Random chance number is: 4\n",
            "The wrong guess was: 2\n",
            "The wrong guess was: 5\n",
            "Hey congratulation. Com user guess is: 4, and random chance number was: 4\n",
            "You saved 2 lives\n"
          ]
        }
      ]
    },
    {
      "cell_type": "markdown",
      "source": [
        "### A function can find the element closest to a given number in a list"
      ],
      "metadata": {
        "id": "ceCNyZ7qtvOU"
      }
    },
    {
      "cell_type": "code",
      "source": [
        "# Function to find the element closest to a given number in a list\n",
        "def closest_element(lst, num):\n",
        "    closest = lst[0]\n",
        "    min_diff = abs(num - lst[0])\n",
        "\n",
        "    for element in lst:\n",
        "        diff = abs(num - element)\n",
        "        if diff < min_diff:\n",
        "            min_diff = diff\n",
        "            closest = element\n",
        "\n",
        "    return closest"
      ],
      "metadata": {
        "id": "pov62qD5Uoye"
      },
      "execution_count": null,
      "outputs": []
    },
    {
      "cell_type": "markdown",
      "source": [
        "### Project 4: Multi-users game Without function"
      ],
      "metadata": {
        "id": "1BXnXZ0UsrZM"
      }
    },
    {
      "cell_type": "code",
      "source": [
        "# Function to find the element closest to a given number in a list\n",
        "def closest_element(lst, num):\n",
        "    closest = lst[0]\n",
        "    min_diff = abs(num - lst[0])\n",
        "\n",
        "    for element in lst:\n",
        "        diff = abs(num - element)\n",
        "        if diff < min_diff:\n",
        "            min_diff = diff\n",
        "            closest = element\n",
        "\n",
        "    return closest\n",
        "\n",
        "# Write a multi-users random guess game\n",
        "import random\n",
        "\n",
        "# We need a random number, live and is_continue\n",
        "is_continue = True\n",
        "random_number = random.randint(1, 100)\n",
        "print(f'Random number is: {random_number}')\n",
        "user1_live = 3\n",
        "user2_live = 3\n",
        "user3_live = 3\n",
        "\n",
        "user1_guess = []\n",
        "user2_guess = []\n",
        "user3_guess = []\n",
        "\n",
        "while is_continue:\n",
        "  user1 = random.randint(1, 100)\n",
        "  user1_guess.append(user1)\n",
        "  user2 = random.randint(1, 100)\n",
        "  user2_guess.append(user2)\n",
        "  user3 = random.randint(1, 100)\n",
        "  user3_guess.append(user3)\n",
        "\n",
        "  # Shuffle users list(dic)\n",
        "  users_list = {\n",
        "      'USER1':user1,\n",
        "      'USER2':user2,\n",
        "      'USER3':user3\n",
        "  }\n",
        "  shuffled_list = list(users_list.items())\n",
        "  random.shuffle(shuffled_list)\n",
        "  shuffled_users = dict(shuffled_list)\n",
        "\n",
        "  # Compare users guess\n",
        "  for username, guess in shuffled_users.items():\n",
        "    if shuffled_users[username] == random_number:\n",
        "      print(f'Wow congratulation. {username} is our winner. User guess: {guess}, random_number: {random_number}')\n",
        "      is_continue = False\n",
        "      break\n",
        "    else:\n",
        "      print(f'{username} guess is {guess} and incorrect.')\n",
        "  user1_live -= 1\n",
        "  user2_live -= 1\n",
        "  user3_live -= 1\n",
        "  if user1_live==0 and user2_live==0 and user3_live == 0:\n",
        "    print(f'Good job and nice try!\\n')\n",
        "    print(f'User_1 guesses: {user1_guess}, user_2 guesses: {user2_guess} and User_3 guesses: {user3_guess}')\n",
        "    # Calculate the closest elements in each list\n",
        "    closest1 = closest_element(user1_guess, random_number)\n",
        "    closest2 = closest_element(user2_guess, random_number)\n",
        "    closest3 = closest_element(user3_guess, random_number)\n",
        "\n",
        "    # Determine which list has the closest element\n",
        "    if abs(random_number - closest1) < abs(random_number - closest2) and abs(random_number - closest1) < abs(random_number - closest3):\n",
        "      print(f\"The closest element to {random_number} is {closest1} in user_1 guesses: {user1_guess}\")\n",
        "      is_continue = False\n",
        "    elif abs(random_number - closest2) < abs(random_number - closest1) and abs(random_number - closest2) < abs(random_number - closest3):\n",
        "      print(f\"The closest element to {random_number} is {closest2} in user_2 guesses: {user2_guess}\")\n",
        "      is_continue = False\n",
        "    else:\n",
        "      print(f\"The closest element to {random_number} is {closest3} in user_3 guesses: {user3_guess}\")\n",
        "      is_continue = False"
      ],
      "metadata": {
        "id": "oZ1DUMyI-An1",
        "colab": {
          "base_uri": "https://localhost:8080/"
        },
        "outputId": "8a2b15d8-056b-4648-9eba-8408fffb9289"
      },
      "execution_count": null,
      "outputs": [
        {
          "output_type": "stream",
          "name": "stdout",
          "text": [
            "Random number is: 5\n",
            "USER1 guess is 93 and incorrect.\n",
            "USER2 guess is 82 and incorrect.\n",
            "USER3 guess is 23 and incorrect.\n",
            "USER3 guess is 82 and incorrect.\n",
            "USER2 guess is 48 and incorrect.\n",
            "USER1 guess is 29 and incorrect.\n",
            "USER3 guess is 22 and incorrect.\n",
            "USER1 guess is 93 and incorrect.\n",
            "USER2 guess is 70 and incorrect.\n",
            "Good job and nice try!\n",
            "\n",
            "User_1 guesses: [93, 29, 93], user_2 guesses: [82, 48, 70] and User_3 guesses: [23, 82, 22]\n",
            "The closest element to 5 is 22 in user_3 guesses: [23, 82, 22]\n"
          ]
        }
      ]
    },
    {
      "cell_type": "markdown",
      "source": [
        "### Project 4: Multi-users game With function"
      ],
      "metadata": {
        "id": "W7Z65EfEjE52"
      }
    },
    {
      "cell_type": "code",
      "source": [
        "# Write a multi-users random guess game\n",
        "import random\n",
        "\n",
        "# Function to find the element closest to a given number in a list\n",
        "def closest_element(lst, num):\n",
        "    closest = lst[0]\n",
        "    min_diff = abs(num - lst[0])\n",
        "\n",
        "    for element in lst:\n",
        "        diff = abs(num - element)\n",
        "        if diff < min_diff:\n",
        "            min_diff = diff\n",
        "            closest = element\n",
        "\n",
        "    return closest\n",
        "\n",
        "def multi_users_guess_game(bound, user1_live=3, user2_live=3, user3_live=3):\n",
        "  \"\"\"\n",
        "  1. There are 3 users ( all computer users without human user).\n",
        "  So, the competition is among 3 computer users (Multi computer users & computer game).\n",
        "  2. Any user who guesses the random number first is the winner...\n",
        "  The order of guesses must be random ( Hint: Use Shuffle ).\n",
        "  3. If no user guesses correctly, the user with the closest guess is the winner\n",
        "  \"\"\"\n",
        "  # We need a random number, live and is_continue\n",
        "  user1_guess = []\n",
        "  user2_guess = []\n",
        "  user3_guess = []\n",
        "  is_continue = True\n",
        "  random_number = random.randint(1, bound)\n",
        "  print(f'Random number is: {random_number}')\n",
        "  while is_continue:\n",
        "    user1 = random.randint(1, bound)\n",
        "    user1_guess.append(user1)\n",
        "    user2 = random.randint(1, bound)\n",
        "    user2_guess.append(user2)\n",
        "    user3 = random.randint(1, bound)\n",
        "    user3_guess.append(user3)\n",
        "\n",
        "    # Shuffle users list(dic)\n",
        "    users_list = {\n",
        "        'USER1':user1,\n",
        "        'USER2':user2,\n",
        "        'USER3':user3\n",
        "    }\n",
        "    shuffled_list = list(users_list.items())\n",
        "    random.shuffle(shuffled_list)\n",
        "    shuffled_users = dict(shuffled_list)\n",
        "\n",
        "    # Compare users guess\n",
        "    for username, guess in shuffled_users.items():\n",
        "      if shuffled_users[username] == random_number:\n",
        "        print(f'Wow congratulation. {username} is our winner. User guess: {guess}, random_number: {random_number}')\n",
        "        is_continue = False\n",
        "        break\n",
        "      else:\n",
        "        print(f'{username} guess is {guess} and incorrect.')\n",
        "    user1_live -= 1\n",
        "    user2_live -= 1\n",
        "    user3_live -= 1\n",
        "    if user1_live==0 and user2_live==0 and user3_live == 0:\n",
        "      print(f'Good job and nice try!\\n')\n",
        "      print(f'User_1 guesses: {user1_guess}, user_2 guesses: {user2_guess} and User_3 guesses: {user3_guess}')\n",
        "      # Calculate the closest elements in each list\n",
        "      closest1 = closest_element(user1_guess, random_number)\n",
        "      closest2 = closest_element(user2_guess, random_number)\n",
        "      closest3 = closest_element(user3_guess, random_number)\n",
        "\n",
        "      # Determine which list has the closest element\n",
        "      if abs(random_number - closest1) < abs(random_number - closest2) and abs(random_number - closest1) < abs(random_number - closest3):\n",
        "        print(f\"The closest element to {random_number} is {closest1} in user_1 guesses: {user1_guess}\")\n",
        "        is_continue = False\n",
        "      elif abs(random_number - closest2) < abs(random_number - closest1) and abs(random_number - closest2) < abs(random_number - closest3):\n",
        "        print(f\"The closest element to {random_number} is {closest2} in user_2 guesses: {user2_guess}\")\n",
        "        is_continue = False\n",
        "      else:\n",
        "        print(f\"The closest element to {random_number} is {closest3} in user_3 guesses: {user3_guess}\")\n",
        "        is_continue = False"
      ],
      "metadata": {
        "id": "I8v9GyThs1cF"
      },
      "execution_count": null,
      "outputs": []
    },
    {
      "cell_type": "code",
      "source": [
        "# Call the function\n",
        "multi_users_guess_game(bound=10, user1_live=3, user2_live=3, user3_live=3)"
      ],
      "metadata": {
        "colab": {
          "base_uri": "https://localhost:8080/"
        },
        "id": "8yEGb94kugsm",
        "outputId": "fb4bf845-e1c5-4242-c29d-2bdeed275d05"
      },
      "execution_count": null,
      "outputs": [
        {
          "output_type": "stream",
          "name": "stdout",
          "text": [
            "Random number is: 3\n",
            "USER3 guess is 6 and incorrect.\n",
            "USER1 guess is 9 and incorrect.\n",
            "Wow congratulation. USER2 is our winner. User guess: 3, random_number: 3\n"
          ]
        }
      ]
    },
    {
      "cell_type": "code",
      "source": [],
      "metadata": {
        "id": "8XRYML60ukv6"
      },
      "execution_count": null,
      "outputs": []
    }
  ]
}