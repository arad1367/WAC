{
  "nbformat": 4,
  "nbformat_minor": 0,
  "metadata": {
    "colab": {
      "provenance": [],
      "authorship_tag": "ABX9TyMd6SyR0PPDJ6z7b9tkPjtU",
      "include_colab_link": true
    },
    "kernelspec": {
      "name": "python3",
      "display_name": "Python 3"
    },
    "language_info": {
      "name": "python"
    }
  },
  "cells": [
    {
      "cell_type": "markdown",
      "metadata": {
        "id": "view-in-github",
        "colab_type": "text"
      },
      "source": [
        "<a href=\"https://colab.research.google.com/github/arad1367/WAC/blob/main/session_2.ipynb\" target=\"_parent\"><img src=\"https://colab.research.google.com/assets/colab-badge.svg\" alt=\"Open In Colab\"/></a>"
      ]
    },
    {
      "cell_type": "markdown",
      "source": [
        "### Primary answer to BMI challenge"
      ],
      "metadata": {
        "id": "9HRxJfharS8A"
      }
    },
    {
      "cell_type": "code",
      "execution_count": 3,
      "metadata": {
        "colab": {
          "base_uri": "https://localhost:8080/"
        },
        "id": "VIn0CvEGmvPI",
        "outputId": "26903336-87b0-43ac-ae2c-050c59d4a8ff"
      },
      "outputs": [
        {
          "output_type": "stream",
          "name": "stdout",
          "text": [
            "Your weight please:(kg) 80\n",
            "Your height please:(m) 1.79\n",
            "Your BMI score is: 24.97\n"
          ]
        }
      ],
      "source": [
        "# BMI_score = weight / (height ** 2)\n",
        "weight = float(input('Your weight please:(kg) '))\n",
        "height = float(input('Your height please:(m) '))\n",
        "\n",
        "BMI_score = weight / (height ** 2)\n",
        "\n",
        "# print with bult in round function\n",
        "print(f'Your BMI score is: {round(BMI_score, 2)}')"
      ]
    },
    {
      "cell_type": "code",
      "source": [
        "number = 3.555555555\n",
        "round(number, 2)"
      ],
      "metadata": {
        "colab": {
          "base_uri": "https://localhost:8080/"
        },
        "id": "pY9HqSI9sUVU",
        "outputId": "fc05f9ec-4e35-478b-ee09-3315e7ee7fee"
      },
      "execution_count": 2,
      "outputs": [
        {
          "output_type": "execute_result",
          "data": {
            "text/plain": [
              "3.56"
            ]
          },
          "metadata": {},
          "execution_count": 2
        }
      ]
    },
    {
      "cell_type": "markdown",
      "source": [
        "### Data structure in Python\n",
        "* List (Mutable)\n",
        "* Dictionary (Mutable)\n",
        "* Sets\n",
        "* Tuple"
      ],
      "metadata": {
        "id": "EjmbfCGGs7hV"
      }
    },
    {
      "cell_type": "markdown",
      "source": [
        "### List (List introduction, List slicing, list methods)"
      ],
      "metadata": {
        "id": "9H8OrTi5tvG-"
      }
    },
    {
      "cell_type": "code",
      "source": [
        "### What is a list? (list always start with 0 index)\n",
        "basket_list = [3, 5.7, 'Budapest', [], [1, 23, [1, 3]], 'Paris', True]\n",
        "basket_list\n",
        "\n",
        "### Index in list , length of our list\n",
        "len(basket_list)\n",
        "\n",
        "### Index and position\n",
        "basket_list[5]"
      ],
      "metadata": {
        "colab": {
          "base_uri": "https://localhost:8080/",
          "height": 36
        },
        "id": "TqN9SnjZstzC",
        "outputId": "aeb2836b-75b7-4bb7-929d-b77acfd34b7f"
      },
      "execution_count": 82,
      "outputs": [
        {
          "output_type": "execute_result",
          "data": {
            "text/plain": [
              "'Paris'"
            ],
            "application/vnd.google.colaboratory.intrinsic+json": {
              "type": "string"
            }
          },
          "metadata": {},
          "execution_count": 82
        }
      ]
    },
    {
      "cell_type": "code",
      "source": [
        "### list slicing >>>> [start:stop:steps]\n",
        "numbers = [1, 2, 5, 8, 10, 100, 200]\n",
        "\n",
        "numbers[0:6:2]\n",
        "\n",
        "numbers[:5]\n",
        "\n",
        "numbers[::-1] # reverse a list without method"
      ],
      "metadata": {
        "colab": {
          "base_uri": "https://localhost:8080/"
        },
        "id": "6pEuwK6-uHfk",
        "outputId": "a0d82bcb-64b0-42c7-c7bd-46b8212f20d4"
      },
      "execution_count": 16,
      "outputs": [
        {
          "output_type": "execute_result",
          "data": {
            "text/plain": [
              "[200, 100, 10, 8, 5, 2, 1]"
            ]
          },
          "metadata": {},
          "execution_count": 16
        }
      ]
    },
    {
      "cell_type": "code",
      "source": [
        "# List is mutable (Changable)\n",
        "\n",
        "city = ['Tehran', 'Berlin', 'Gyor', 'Roma']\n",
        "\n",
        "city[0] = 'Milan'\n",
        "\n",
        "city"
      ],
      "metadata": {
        "colab": {
          "base_uri": "https://localhost:8080/"
        },
        "id": "JCEWL8hGvQlm",
        "outputId": "9dfc1da0-0dca-49ea-afc4-657202db4d78"
      },
      "execution_count": 17,
      "outputs": [
        {
          "output_type": "execute_result",
          "data": {
            "text/plain": [
              "['Milan', 'Berlin', 'Gyor', 'Roma']"
            ]
          },
          "metadata": {},
          "execution_count": 17
        }
      ]
    },
    {
      "cell_type": "code",
      "source": [
        "### List methods\n",
        "\n",
        "city"
      ],
      "metadata": {
        "colab": {
          "base_uri": "https://localhost:8080/"
        },
        "id": "ArRlt4iQwT9L",
        "outputId": "5261f390-2a92-4682-a1da-78da58515cdf"
      },
      "execution_count": 18,
      "outputs": [
        {
          "output_type": "execute_result",
          "data": {
            "text/plain": [
              "['Milan', 'Berlin', 'Gyor', 'Roma']"
            ]
          },
          "metadata": {},
          "execution_count": 18
        }
      ]
    },
    {
      "cell_type": "code",
      "source": [
        "### List methods : 1. append\n",
        "city.append('Fuman')\n",
        "\n",
        "### pop : you can make a new variable with pop"
      ],
      "metadata": {
        "id": "JXCfl6ajwra9"
      },
      "execution_count": 23,
      "outputs": []
    },
    {
      "cell_type": "code",
      "source": [
        "print(city)\n",
        "\n",
        "new_city = city.pop()\n",
        "print(new_city)\n",
        "print(city)"
      ],
      "metadata": {
        "colab": {
          "base_uri": "https://localhost:8080/"
        },
        "id": "V_GQlWnfw8ct",
        "outputId": "c2b52640-7960-456a-e990-912d08af04a2"
      },
      "execution_count": 25,
      "outputs": [
        {
          "output_type": "stream",
          "name": "stdout",
          "text": [
            "['Milan', 'Berlin', 'Gyor', 'Roma', 'Shiraz', 'Shiraz', 'Shiraz', 'Shiraz', 'Fuman']\n",
            "Fuman\n",
            "['Milan', 'Berlin', 'Gyor', 'Roma', 'Shiraz', 'Shiraz', 'Shiraz', 'Shiraz']\n"
          ]
        }
      ]
    },
    {
      "cell_type": "code",
      "source": [
        "# Insert\n",
        "city.insert(0, 'Mashhad')\n",
        "city"
      ],
      "metadata": {
        "colab": {
          "base_uri": "https://localhost:8080/"
        },
        "id": "UfR-Ong-xc1Q",
        "outputId": "15214e4a-9a4e-4779-d40a-8d09e1225666"
      },
      "execution_count": 26,
      "outputs": [
        {
          "output_type": "execute_result",
          "data": {
            "text/plain": [
              "['Mashhad',\n",
              " 'Milan',\n",
              " 'Berlin',\n",
              " 'Gyor',\n",
              " 'Roma',\n",
              " 'Shiraz',\n",
              " 'Shiraz',\n",
              " 'Shiraz',\n",
              " 'Shiraz']"
            ]
          },
          "metadata": {},
          "execution_count": 26
        }
      ]
    },
    {
      "cell_type": "code",
      "source": [
        "# remove\n",
        "city.remove('Mashhad')\n",
        "city"
      ],
      "metadata": {
        "colab": {
          "base_uri": "https://localhost:8080/"
        },
        "id": "-FMG51jsx-jK",
        "outputId": "e8ac08e3-e718-4687-f24a-d040dcb11349"
      },
      "execution_count": 27,
      "outputs": [
        {
          "output_type": "execute_result",
          "data": {
            "text/plain": [
              "['Milan', 'Berlin', 'Gyor', 'Roma', 'Shiraz', 'Shiraz', 'Shiraz', 'Shiraz']"
            ]
          },
          "metadata": {},
          "execution_count": 27
        }
      ]
    },
    {
      "cell_type": "code",
      "source": [
        "# count\n",
        "city.count('Shiraz')"
      ],
      "metadata": {
        "colab": {
          "base_uri": "https://localhost:8080/"
        },
        "id": "O9fKQSh6yLzt",
        "outputId": "33162ec6-c5dd-4e05-fe0a-6b651a8083fb"
      },
      "execution_count": 30,
      "outputs": [
        {
          "output_type": "execute_result",
          "data": {
            "text/plain": [
              "4"
            ]
          },
          "metadata": {},
          "execution_count": 30
        }
      ]
    },
    {
      "cell_type": "markdown",
      "source": [
        "### Dictionary (key: values)"
      ],
      "metadata": {
        "id": "vyoh-g--yhCZ"
      }
    },
    {
      "cell_type": "code",
      "source": [
        "university_info = {\n",
        "    'Name': 'MATE',  # 'key': value\n",
        "    'Rank': 10,\n",
        "    'Scores': [13, 15, 20, 18, [1000, 2000]]\n",
        "}\n",
        "\n",
        "university_info"
      ],
      "metadata": {
        "colab": {
          "base_uri": "https://localhost:8080/"
        },
        "id": "cDwvTd86yXyi",
        "outputId": "bde55b66-3058-447d-c24b-1b40ea4eb0df"
      },
      "execution_count": 41,
      "outputs": [
        {
          "output_type": "execute_result",
          "data": {
            "text/plain": [
              "{'Name': 'MATE', 'Rank': 10, 'Scores': [13, 15, 20, 18, [1000, 2000]]}"
            ]
          },
          "metadata": {},
          "execution_count": 41
        }
      ]
    },
    {
      "cell_type": "code",
      "source": [
        "university_info['Scores'][2]\n",
        "university_info['Scores'][4][1]"
      ],
      "metadata": {
        "colab": {
          "base_uri": "https://localhost:8080/"
        },
        "id": "81_eg4I0z51B",
        "outputId": "dc967603-0cf8-4837-c135-aec368fe69bd"
      },
      "execution_count": 43,
      "outputs": [
        {
          "output_type": "execute_result",
          "data": {
            "text/plain": [
              "2000"
            ]
          },
          "metadata": {},
          "execution_count": 43
        }
      ]
    },
    {
      "cell_type": "code",
      "source": [
        "# Check keys and values\n",
        "\n",
        "university_info.keys()"
      ],
      "metadata": {
        "colab": {
          "base_uri": "https://localhost:8080/"
        },
        "id": "JjuC9IJ1zJp7",
        "outputId": "ece78ac5-5ac4-40cc-ec59-434adda8fc1e"
      },
      "execution_count": 33,
      "outputs": [
        {
          "output_type": "execute_result",
          "data": {
            "text/plain": [
              "dict_keys(['Name', 'Rank', 'Scores'])"
            ]
          },
          "metadata": {},
          "execution_count": 33
        }
      ]
    },
    {
      "cell_type": "code",
      "source": [
        "university_info.values()"
      ],
      "metadata": {
        "colab": {
          "base_uri": "https://localhost:8080/"
        },
        "id": "XuUOlEkLzUBQ",
        "outputId": "06bd9908-075e-4b3a-96b2-6c146e259923"
      },
      "execution_count": 36,
      "outputs": [
        {
          "output_type": "execute_result",
          "data": {
            "text/plain": [
              "dict_values(['MATE', 10, [13, 15, 20, 18]])"
            ]
          },
          "metadata": {},
          "execution_count": 36
        }
      ]
    },
    {
      "cell_type": "code",
      "source": [
        "# Access to our keys and values\n",
        "university_info['Name']"
      ],
      "metadata": {
        "colab": {
          "base_uri": "https://localhost:8080/",
          "height": 36
        },
        "id": "YYfYozNUzkU9",
        "outputId": "f0c64d74-5aa2-41eb-b6d2-7912bd950c6d"
      },
      "execution_count": 37,
      "outputs": [
        {
          "output_type": "execute_result",
          "data": {
            "text/plain": [
              "'MATE'"
            ],
            "application/vnd.google.colaboratory.intrinsic+json": {
              "type": "string"
            }
          },
          "metadata": {},
          "execution_count": 37
        }
      ]
    },
    {
      "cell_type": "markdown",
      "source": [
        "# Sets"
      ],
      "metadata": {
        "id": "yshEcjj20yhw"
      }
    },
    {
      "cell_type": "code",
      "source": [
        "number_list = [1, 1, 1, 1, 2]\n",
        "\n",
        "set(number_list)  # To find unique values"
      ],
      "metadata": {
        "colab": {
          "base_uri": "https://localhost:8080/"
        },
        "id": "o7qmBOXYzwwo",
        "outputId": "9c162b2d-3c92-48aa-ac31-131d8b00ca14"
      },
      "execution_count": 44,
      "outputs": [
        {
          "output_type": "execute_result",
          "data": {
            "text/plain": [
              "{1, 2}"
            ]
          },
          "metadata": {},
          "execution_count": 44
        }
      ]
    },
    {
      "cell_type": "code",
      "source": [
        "# methods: sets {}\n",
        "\n",
        "set1 = {1, 2, 3, 4, 5}\n",
        "set2 = {3, 5, 10, 20, 33}\n",
        "\n",
        "set1.difference(set2)\n",
        "set1.intersection(set2)\n",
        "set1.union(set2)"
      ],
      "metadata": {
        "colab": {
          "base_uri": "https://localhost:8080/"
        },
        "id": "3hzwSvaQ0-NZ",
        "outputId": "94a72941-33ce-460d-d2d2-46e699404eba"
      },
      "execution_count": 47,
      "outputs": [
        {
          "output_type": "execute_result",
          "data": {
            "text/plain": [
              "{1, 2, 3, 4, 5, 10, 20, 33}"
            ]
          },
          "metadata": {},
          "execution_count": 47
        }
      ]
    },
    {
      "cell_type": "markdown",
      "source": [
        "### Tuple"
      ],
      "metadata": {
        "id": "8Nyq8vLG1yT1"
      }
    },
    {
      "cell_type": "code",
      "source": [
        "number_tuple = (3, 9, 10) # immutable\n",
        "number_tuple[2]"
      ],
      "metadata": {
        "colab": {
          "base_uri": "https://localhost:8080/"
        },
        "id": "bXxEUZgR1iRk",
        "outputId": "a6697844-0527-4f55-c8cf-c39ba419ce37"
      },
      "execution_count": 50,
      "outputs": [
        {
          "output_type": "execute_result",
          "data": {
            "text/plain": [
              "10"
            ]
          },
          "metadata": {},
          "execution_count": 50
        }
      ]
    },
    {
      "cell_type": "code",
      "source": [
        "### logical operators (and, or, not)\n",
        "\n",
        "True and False\n",
        "\n",
        "True or False\n",
        "\n",
        "not 0\n",
        "\n",
        "shopping_list = ['PC', 'Laptop', 'car']\n",
        "\n",
        "'Mobile' not in shopping_list"
      ],
      "metadata": {
        "colab": {
          "base_uri": "https://localhost:8080/"
        },
        "id": "9PiMPaj02baX",
        "outputId": "d123be2c-0ff2-44d1-ad8e-f70bed68b280"
      },
      "execution_count": 62,
      "outputs": [
        {
          "output_type": "execute_result",
          "data": {
            "text/plain": [
              "True"
            ]
          },
          "metadata": {},
          "execution_count": 62
        }
      ]
    },
    {
      "cell_type": "markdown",
      "source": [
        "### conditions (if, elif, else)"
      ],
      "metadata": {
        "id": "nxL18M_k2VC8"
      }
    },
    {
      "cell_type": "code",
      "source": [
        "import random"
      ],
      "metadata": {
        "id": "Q7a74P6v2H6y"
      },
      "execution_count": 64,
      "outputs": []
    },
    {
      "cell_type": "code",
      "source": [
        "random_number = random.randint(1, 100)\n",
        "print(f'Our random number is: {random_number}')"
      ],
      "metadata": {
        "colab": {
          "base_uri": "https://localhost:8080/"
        },
        "id": "kw89LDJo3fUS",
        "outputId": "72727a15-ba83-4a6a-edab-b7844ab7465c"
      },
      "execution_count": 69,
      "outputs": [
        {
          "output_type": "stream",
          "name": "stdout",
          "text": [
            "Our random number is: 36\n"
          ]
        }
      ]
    },
    {
      "cell_type": "code",
      "source": [
        "random_number = random.randint(1, 100)\n",
        "\n",
        "if random_number < 30:\n",
        "  print(f'My number is: {random_number} and this number is too small')\n",
        "elif random_number < 60:\n",
        "  print(f'My number is: {random_number} and this number is not bad')\n",
        "elif random_number < 80:\n",
        "  print(f'My number is: {random_number} and this number is acceptable')\n",
        "else:\n",
        "  print(f'My number is: {random_number} and this number is awsome!')"
      ],
      "metadata": {
        "colab": {
          "base_uri": "https://localhost:8080/"
        },
        "id": "u9zpeIIy3uVT",
        "outputId": "25168587-0daa-4b3b-8397-37e3e5b52a2c"
      },
      "execution_count": 72,
      "outputs": [
        {
          "output_type": "stream",
          "name": "stdout",
          "text": [
            "My number is: 42 and this number is not bad\n"
          ]
        }
      ]
    },
    {
      "cell_type": "markdown",
      "source": [
        "### A complete answer to BMI challenge"
      ],
      "metadata": {
        "id": "1XpjOLbY43Ag"
      }
    },
    {
      "cell_type": "code",
      "source": [
        "# BMI_score = weight / (height ** 2)\n",
        "weight = float(input('Your weight please:(kg) '))\n",
        "height = float(input('Your height please:(m) '))\n",
        "\n",
        "BMI_score = weight / (height ** 2)\n",
        "\n",
        "# Some conditions\n",
        "if BMI_score <= 18.4:\n",
        "  print(f'Your BMI score is: {round(BMI_score, 2)} and you are underweight')\n",
        "elif BMI_score <= 24.9:\n",
        "  print(f'Your BMI score is: {round(BMI_score, 2)} and you have normal weight')\n",
        "elif BMI_score <= 39.9:\n",
        "  print(f'Your BMI score is: {round(BMI_score, 2)} and you are Overweight')\n",
        "else:\n",
        "  print(f'Your BMI score is: {round(BMI_score, 2)} and you suffer Obese')"
      ],
      "metadata": {
        "colab": {
          "base_uri": "https://localhost:8080/"
        },
        "id": "SUUv3Ewr4mR3",
        "outputId": "7a86b26b-0b9b-4556-9ce2-3e96d316e88e"
      },
      "execution_count": 73,
      "outputs": [
        {
          "output_type": "stream",
          "name": "stdout",
          "text": [
            "Your weight please:(kg) 86\n",
            "Your height please:(m) 1.56\n",
            "Your BMI score is: 35.34 and you are Overweight\n"
          ]
        }
      ]
    },
    {
      "cell_type": "markdown",
      "source": [
        "### Loop (For, While)"
      ],
      "metadata": {
        "id": "wQKjTz846GJA"
      }
    },
    {
      "cell_type": "code",
      "source": [
        "for num in range(5): # 0, 1, 2, .. 10\n",
        "  print(num)"
      ],
      "metadata": {
        "colab": {
          "base_uri": "https://localhost:8080/"
        },
        "id": "3EPew5DT53vI",
        "outputId": "dd9e22d0-e84c-4d20-a16c-089bc5cae887"
      },
      "execution_count": 75,
      "outputs": [
        {
          "output_type": "stream",
          "name": "stdout",
          "text": [
            "0\n",
            "1\n",
            "2\n",
            "3\n",
            "4\n"
          ]
        }
      ]
    },
    {
      "cell_type": "markdown",
      "source": [
        "### Example project : A password generator"
      ],
      "metadata": {
        "id": "_uAYJSg-6ham"
      }
    },
    {
      "cell_type": "code",
      "source": [
        "password_list = []\n",
        "\n",
        "for number in range(10):\n",
        "  # produce a number between 0 to 9\n",
        "  new_number = random.randint(0, 9)\n",
        "  # append this number to my list\n",
        "  password_list.append(str(new_number))\n",
        "\n",
        "print(f'My password list is: {password_list} and len of the pass list is : {len(password_list)}')\n",
        "\n",
        "# How we can convert a list to str\n",
        "password_str = ''.join(password_list) # list members can not be a number > str\n",
        "print(f'My password in str format is: {password_str}')"
      ],
      "metadata": {
        "colab": {
          "base_uri": "https://localhost:8080/"
        },
        "id": "MFmkDLJw6TnB",
        "outputId": "541beb78-596d-4ce2-a915-20ca948f257d"
      },
      "execution_count": 81,
      "outputs": [
        {
          "output_type": "stream",
          "name": "stdout",
          "text": [
            "My password list is: ['5', '4', '9', '4', '3', '5', '8', '9', '6', '4'] and len of the pass list is : 10\n",
            "My password in str format is: 5494358964\n"
          ]
        }
      ]
    },
    {
      "cell_type": "code",
      "source": [],
      "metadata": {
        "id": "JH-3-RCS7YQ2"
      },
      "execution_count": null,
      "outputs": []
    }
  ]
}