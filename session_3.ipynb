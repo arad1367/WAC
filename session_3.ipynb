{
  "nbformat": 4,
  "nbformat_minor": 0,
  "metadata": {
    "colab": {
      "provenance": [],
      "authorship_tag": "ABX9TyOsE0tjUbPHweqEUlrr5nt5",
      "include_colab_link": true
    },
    "kernelspec": {
      "name": "python3",
      "display_name": "Python 3"
    },
    "language_info": {
      "name": "python"
    }
  },
  "cells": [
    {
      "cell_type": "markdown",
      "metadata": {
        "id": "view-in-github",
        "colab_type": "text"
      },
      "source": [
        "<a href=\"https://colab.research.google.com/github/arad1367/WAC/blob/main/session_3.ipynb\" target=\"_parent\"><img src=\"https://colab.research.google.com/assets/colab-badge.svg\" alt=\"Open In Colab\"/></a>"
      ]
    },
    {
      "cell_type": "markdown",
      "source": [
        "### FizzBuzz Project\n",
        "\n",
        "* Write a Python program that iterates the integers from 1 to 100. For multiples of 3 print \"Fizz\" instead of the number and for multiples of 5 print \"Buzz\". For numbers that are multiples of three and five, print \"FizzBuzz\".\n",
        "\n",
        "* Sample output:\n",
        "1\n",
        "2\n",
        "fizz\n",
        "4\n",
        "buzz\n",
        "fizz\n",
        "7\n",
        "8\n",
        "fizz\n",
        "buzz\n",
        "11\n",
        "fizz\n",
        "13\n",
        "14\n",
        "fizzbuzz\n",
        "....."
      ],
      "metadata": {
        "id": "Aw97NzQshhBO"
      }
    },
    {
      "cell_type": "code",
      "execution_count": 3,
      "metadata": {
        "colab": {
          "base_uri": "https://localhost:8080/"
        },
        "id": "lZ9D0Ztuhd56",
        "outputId": "73e92add-19a7-4eeb-c2a1-0d4f547027db"
      },
      "outputs": [
        {
          "output_type": "stream",
          "name": "stdout",
          "text": [
            "1\n",
            "2\n",
            "Fizz\n",
            "4\n",
            "Buzz\n",
            "Fizz\n",
            "7\n",
            "8\n",
            "Fizz\n",
            "Buzz\n",
            "11\n",
            "Fizz\n",
            "13\n",
            "14\n",
            "FizBuzz\n",
            "16\n",
            "17\n",
            "Fizz\n",
            "19\n",
            "Buzz\n",
            "Fizz\n",
            "22\n",
            "23\n",
            "Fizz\n",
            "Buzz\n",
            "26\n",
            "Fizz\n",
            "28\n",
            "29\n",
            "FizBuzz\n",
            "31\n",
            "32\n",
            "Fizz\n",
            "34\n",
            "Buzz\n",
            "Fizz\n",
            "37\n",
            "38\n",
            "Fizz\n",
            "Buzz\n",
            "41\n",
            "Fizz\n",
            "43\n",
            "44\n",
            "FizBuzz\n",
            "46\n",
            "47\n",
            "Fizz\n",
            "49\n",
            "Buzz\n",
            "Fizz\n",
            "52\n",
            "53\n",
            "Fizz\n",
            "Buzz\n",
            "56\n",
            "Fizz\n",
            "58\n",
            "59\n",
            "FizBuzz\n",
            "61\n",
            "62\n",
            "Fizz\n",
            "64\n",
            "Buzz\n",
            "Fizz\n",
            "67\n",
            "68\n",
            "Fizz\n",
            "Buzz\n",
            "71\n",
            "Fizz\n",
            "73\n",
            "74\n",
            "FizBuzz\n",
            "76\n",
            "77\n",
            "Fizz\n",
            "79\n",
            "Buzz\n",
            "Fizz\n",
            "82\n",
            "83\n",
            "Fizz\n",
            "Buzz\n",
            "86\n",
            "Fizz\n",
            "88\n",
            "89\n",
            "FizBuzz\n",
            "91\n",
            "92\n",
            "Fizz\n",
            "94\n",
            "Buzz\n",
            "Fizz\n",
            "97\n",
            "98\n",
            "Fizz\n"
          ]
        }
      ],
      "source": [
        "for _ in range(1, 100):\n",
        "  if _ % 3 == 0 and _ % 5 == 0:\n",
        "    print('FizBuzz')\n",
        "  elif _ % 3 == 0:\n",
        "    print('Fizz')\n",
        "  elif _ % 5 == 0:\n",
        "    print('Buzz')\n",
        "  else:\n",
        "    print(_)\n",
        "# 15 / 3 = 5 , res = 0 ,   15 / 5 = 3 , res = 0"
      ]
    },
    {
      "cell_type": "markdown",
      "source": [
        "### How can we iterate on list and dictionary"
      ],
      "metadata": {
        "id": "_EU9H3NZlS_W"
      }
    },
    {
      "cell_type": "code",
      "source": [
        "my_list = ['Budapest', 'Berlin', 'Porto', 'Warsaw', 'Tehran']\n",
        "my_dictionary = {\n",
        "    'Name': 'Sara',\n",
        "    'Age': 20,\n",
        "    'Height': 1.75,\n",
        "    'Weight': 65\n",
        "}\n",
        "\n",
        "\n",
        "# Solution 1 : A simple loop on a list\n",
        "for city in my_list:\n",
        "  print(city)\n",
        "\n",
        "# Solution 2 : loop on a list with index and value >>> enumerate\n",
        "for index, value in enumerate(my_list):\n",
        "  print(f'index: {index} ----- value: {value}')\n",
        "\n",
        "# Solution 3 : loop on a dictionary  >>>> key:value\n",
        "for key, value in my_dictionary.items():\n",
        "  print(f'key: {key} ----- value: {value}')\n",
        "for value in my_dictionary.values():\n",
        "  print(f'value: {value}')\n",
        "for key in my_dictionary.keys():\n",
        "  print(f'key: {key}')"
      ],
      "metadata": {
        "colab": {
          "base_uri": "https://localhost:8080/"
        },
        "id": "yr0cRtunk40E",
        "outputId": "3e0a3d1e-5279-417f-df3b-df08892c7a7a"
      },
      "execution_count": 8,
      "outputs": [
        {
          "output_type": "stream",
          "name": "stdout",
          "text": [
            "key: Name\n",
            "key: Age\n",
            "key: Height\n",
            "key: Weight\n"
          ]
        }
      ]
    },
    {
      "cell_type": "markdown",
      "source": [
        "### while"
      ],
      "metadata": {
        "id": "D5NEya3foEcj"
      }
    },
    {
      "cell_type": "code",
      "source": [
        "num = 0\n",
        "\n",
        "while num < 5:    # With a while , we check a condition till the condition is true\n",
        "  print(num)\n",
        "  num += 1      # num = num - 1 //// after 1st loop 1 - 2nd loop 2 --- last loop num=5 < 5 >>>> break"
      ],
      "metadata": {
        "colab": {
          "base_uri": "https://localhost:8080/"
        },
        "id": "S0Iv6uQjmFXg",
        "outputId": "0e6f9446-13b7-4480-a13c-0b9cee23dec9"
      },
      "execution_count": 9,
      "outputs": [
        {
          "output_type": "stream",
          "name": "stdout",
          "text": [
            "0\n",
            "1\n",
            "2\n",
            "3\n",
            "4\n"
          ]
        }
      ]
    },
    {
      "cell_type": "code",
      "source": [
        "# Example : Define a football player list with more than length of 4\n",
        "football_player_list = []\n",
        "is_continue = True\n",
        "\n",
        "while is_continue:\n",
        "  new_name = input('Enter a football player name: ')\n",
        "  if len(new_name) > 4:\n",
        "    football_player_list.append(new_name)\n",
        "  else:\n",
        "    print('Wrong output')\n",
        "    # break\n",
        "    is_continue = False\n",
        "\n",
        "print(f'Our final list is : {football_player_list}')"
      ],
      "metadata": {
        "colab": {
          "base_uri": "https://localhost:8080/"
        },
        "id": "rKVSKvSQpXBa",
        "outputId": "87a94424-8196-4095-f92a-cd4404fbde41"
      },
      "execution_count": 11,
      "outputs": [
        {
          "output_type": "stream",
          "name": "stdout",
          "text": [
            "Enter a football player name: Messi\n",
            "Enter a football player name: Ronaldo\n",
            "Enter a football player name: Taremi\n",
            "Enter a football player name: Kaka\n",
            "Wrong output\n",
            "Our final list is : ['Messi', 'Ronaldo', 'Taremi']\n"
          ]
        }
      ]
    },
    {
      "cell_type": "markdown",
      "source": [
        "### Make a Random atari game"
      ],
      "metadata": {
        "id": "3_at1jHQq30P"
      }
    },
    {
      "cell_type": "code",
      "source": [
        "# Make a classic atari game : random guess atari game\n",
        "# Goal : make a random number between 1 to 100 > computer random number\n",
        "# To guess what is this number? we have just 5 lives\n",
        "import random\n",
        "import time # add a delay 1 second to my program\n",
        "\n",
        "is_continue = True # condition for while loop\n",
        "live = 5\n",
        "\n",
        "# computer random number\n",
        "com_random_number = random.randint(1, 100)\n",
        "print(f'Computer random number : {com_random_number}') # Cheat on final answer\n",
        "\n",
        "# Welcome message\n",
        "print('Welcome to GUESS GAME\\n')\n",
        "time.sleep(1) # 1 second delay\n",
        "\n",
        "# username\n",
        "username = input('What is your name? \\n')\n",
        "print(f'Good luck {username}!')\n",
        "time.sleep(1)\n",
        "\n",
        "# Body of our project\n",
        "while is_continue:\n",
        "  user_guess = int(input('Guess a number: '))\n",
        "  # when we guess correct\n",
        "  if user_guess == com_random_number:\n",
        "    print(f'Wowwww congratulations. Computer guess was {com_random_number}, your guess is {user_guess}')\n",
        "    break\n",
        "  # when you guess wrong\n",
        "  else:\n",
        "    live -= 1 # we lose on of our live\n",
        "    if live == 0:\n",
        "      print(f'You have {live} live. You lose!. Computer guess was {com_random_number}, your guess is {user_guess}')\n",
        "      break\n",
        "    if user_guess > com_random_number: # my guess is 50 , com number is 40\n",
        "      print(f'You have {live} live. You need to guess a smaller number')\n",
        "    if user_guess < com_random_number: # our guess: 10 , com: 90\n",
        "      print(f'You have {live} live. You need to guess a bigger number')"
      ],
      "metadata": {
        "colab": {
          "base_uri": "https://localhost:8080/"
        },
        "id": "qBccFhFTqXtq",
        "outputId": "943b4d9a-3ab5-4955-d315-5915e7a717a3"
      },
      "execution_count": 14,
      "outputs": [
        {
          "output_type": "stream",
          "name": "stdout",
          "text": [
            "Computer random number : 11\n",
            "Welcome to GUESS GAME\n",
            "\n",
            "What is your name? \n",
            "Pejman\n",
            "Good luck Pejman!\n",
            "Guess a number: 4\n",
            "You have 4 live. You need to guess a bigger number\n",
            "Guess a number: 20\n",
            "You have 3 live. You need to guess a smaller number\n",
            "Guess a number: 11\n",
            "Wowwww congratulations. Computer guess was 11, your guess is 11\n"
          ]
        }
      ]
    },
    {
      "cell_type": "markdown",
      "source": [
        "### Project 1 : Change the guess game and make it a computer & computer game (Automatically)\n",
        "\n",
        "\n",
        "### Project 2 : With a function\n",
        "* user1 , user2 , user3 , random_number\n",
        "* If one user guess correctly, the user win the game\n",
        "* The user with closer guess will won"
      ],
      "metadata": {
        "id": "ggGbIshFv6cV"
      }
    },
    {
      "cell_type": "markdown",
      "source": [
        "### Function"
      ],
      "metadata": {
        "id": "VPEGQywzvYvh"
      }
    },
    {
      "cell_type": "code",
      "source": [
        "# Example 1 : Greeting function\n",
        "def greeting_function():\n",
        "  print('Welcome my friend! ')\n",
        "\n",
        "# Call this function\n",
        "greeting_function()"
      ],
      "metadata": {
        "colab": {
          "base_uri": "https://localhost:8080/"
        },
        "id": "mfJ9orcjtmPW",
        "outputId": "5a0e7ed0-f1d5-405d-e795-8f25ecaf0ae1"
      },
      "execution_count": 15,
      "outputs": [
        {
          "output_type": "stream",
          "name": "stdout",
          "text": [
            "Welcome my friend! \n"
          ]
        }
      ]
    },
    {
      "cell_type": "code",
      "source": [
        "# Example 2: A function can return username and age\n",
        "# def info(your_username:str, age:int) -> str:  # Parameters\n",
        "# docstring\n",
        "def info(your_username, age):\n",
        "  \"\"\"\n",
        "  This function try to get your name and age and return them.\n",
        "  your_name: string , For example: your_name = 'Mike'\n",
        "  age : integer, for example: age: 20\n",
        "  \"\"\"\n",
        "  return f'My name is {your_username}, and I am {age} years old.'\n",
        "\n",
        "# call this function\n",
        "# print(info('Mike', 30)) # Shift + Ctrl + space   ## positional arguments\n",
        "print(info(your_username='Pejman', age=30)) # keyword arguments"
      ],
      "metadata": {
        "colab": {
          "base_uri": "https://localhost:8080/"
        },
        "id": "HUZMCpy0zIi1",
        "outputId": "e96d1c97-062b-4eb0-84ad-78c7334fc17b"
      },
      "execution_count": 18,
      "outputs": [
        {
          "output_type": "stream",
          "name": "stdout",
          "text": [
            "My name is Pejman, and I am 30 years old.\n"
          ]
        }
      ]
    },
    {
      "cell_type": "code",
      "source": [
        "# Example 3 : define a default value inside of our function\n",
        "def add(num1=10, num2=10):\n",
        "  \"\"\"\n",
        "  This is a function try to add 2 numbers.\n",
        "  \"\"\"\n",
        "  result = num1 + num2\n",
        "  return result\n",
        "\n",
        "# Call\n",
        "print(add(num2=1000))"
      ],
      "metadata": {
        "colab": {
          "base_uri": "https://localhost:8080/"
        },
        "id": "FjStPV211TCI",
        "outputId": "4db18295-75ca-4979-dd38-2f17996c8678"
      },
      "execution_count": 21,
      "outputs": [
        {
          "output_type": "stream",
          "name": "stdout",
          "text": [
            "1010\n"
          ]
        }
      ]
    },
    {
      "cell_type": "code",
      "source": [
        "# Scope\n",
        "# even or odd numbers function\n",
        "# Find highest and lowest values inside a list or dictionary\n",
        "# *args ** kwargs\n",
        "# ...."
      ],
      "metadata": {
        "id": "5fioxKdj2Bxj"
      },
      "execution_count": null,
      "outputs": []
    }
  ]
}